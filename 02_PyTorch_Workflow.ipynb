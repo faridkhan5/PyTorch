{
  "nbformat": 4,
  "nbformat_minor": 0,
  "metadata": {
    "colab": {
      "provenance": [],
      "gpuType": "T4"
    },
    "kernelspec": {
      "name": "python3",
      "display_name": "Python 3"
    },
    "language_info": {
      "name": "python"
    },
    "accelerator": "GPU"
  },
  "cells": [
    {
      "cell_type": "code",
      "execution_count": null,
      "metadata": {
        "colab": {
          "base_uri": "https://localhost:8080/"
        },
        "id": "wE1_FeJM_FuF",
        "outputId": "87759463-2119-408f-a8af-d014398f41ff"
      },
      "outputs": [
        {
          "output_type": "stream",
          "name": "stdout",
          "text": [
            "2.1.0+cu121\n"
          ]
        }
      ],
      "source": [
        "import torch\n",
        "import pandas as pd, numpy as np, matplotlib.pyplot as plt, seaborn as sns\n",
        "from torch import nn\n",
        "print(torch.__version__)"
      ]
    },
    {
      "cell_type": "markdown",
      "source": [
        "#3. Workflow"
      ],
      "metadata": {
        "id": "7TTGaE3bRj_X"
      }
    },
    {
      "cell_type": "markdown",
      "source": [
        "##3.1) Data"
      ],
      "metadata": {
        "id": "QyQdNdMX2QnA"
      }
    },
    {
      "cell_type": "markdown",
      "source": [
        "ML is a game of 2 parts\n",
        "1. input -convert-> numerical rep\n",
        "2. build a model to learn patterns in that numerical rep\n"
      ],
      "metadata": {
        "id": "uhvm1oO12yZn"
      }
    },
    {
      "cell_type": "code",
      "source": [
        "#known params\n",
        "weight = 0.7\n",
        "bias = 0.3\n",
        "\n",
        "#range of nos\n",
        "start=0\n",
        "end=1\n",
        "step = 0.02\n",
        "X = torch.arange(start, end, step).unsqueeze(dim=1)\n",
        "y = weight * X + bias\n",
        "\n",
        "X[:10], y[:10]"
      ],
      "metadata": {
        "id": "f-Vc1NfjRc5j",
        "colab": {
          "base_uri": "https://localhost:8080/"
        },
        "outputId": "08ac3866-f03a-4c80-b773-6ba793598195"
      },
      "execution_count": null,
      "outputs": [
        {
          "output_type": "execute_result",
          "data": {
            "text/plain": [
              "(tensor([[0.0000],\n",
              "         [0.0200],\n",
              "         [0.0400],\n",
              "         [0.0600],\n",
              "         [0.0800],\n",
              "         [0.1000],\n",
              "         [0.1200],\n",
              "         [0.1400],\n",
              "         [0.1600],\n",
              "         [0.1800]]),\n",
              " tensor([[0.3000],\n",
              "         [0.3140],\n",
              "         [0.3280],\n",
              "         [0.3420],\n",
              "         [0.3560],\n",
              "         [0.3700],\n",
              "         [0.3840],\n",
              "         [0.3980],\n",
              "         [0.4120],\n",
              "         [0.4260]]))"
            ]
          },
          "metadata": {},
          "execution_count": 72
        }
      ]
    },
    {
      "cell_type": "code",
      "source": [
        "X.shape, y.shape"
      ],
      "metadata": {
        "colab": {
          "base_uri": "https://localhost:8080/"
        },
        "id": "oQ0Vvhv63vS-",
        "outputId": "6a88d28f-b17d-4e18-c735-1c541fd67f4c"
      },
      "execution_count": null,
      "outputs": [
        {
          "output_type": "execute_result",
          "data": {
            "text/plain": [
              "(torch.Size([50, 1]), torch.Size([50, 1]))"
            ]
          },
          "metadata": {},
          "execution_count": 73
        }
      ]
    },
    {
      "cell_type": "code",
      "source": [
        "#train test split\n",
        "from sklearn.model_selection import train_test_split\n",
        "\n",
        "X_train, X_test, y_train, y_test = train_test_split(X, y, test_size=0.2)\n",
        "\n",
        "len(X_train), len(X_test), len(y_train), len(y_test)"
      ],
      "metadata": {
        "colab": {
          "base_uri": "https://localhost:8080/"
        },
        "id": "Yt3yBcEf3yKO",
        "outputId": "91fe26a9-0c94-4514-e42d-60b5609dbc28"
      },
      "execution_count": null,
      "outputs": [
        {
          "output_type": "execute_result",
          "data": {
            "text/plain": [
              "(40, 10, 40, 10)"
            ]
          },
          "metadata": {},
          "execution_count": 74
        }
      ]
    },
    {
      "cell_type": "markdown",
      "source": [
        "visualize data"
      ],
      "metadata": {
        "id": "kSHtSfXI5plq"
      }
    },
    {
      "cell_type": "code",
      "source": [
        "def plot_preds(train_data=X_train,\n",
        "               train_labels=y_train,\n",
        "               test_data=X_test,\n",
        "               test_labels=y_test,\n",
        "               preds=None):\n",
        "  plt.figure(figsize=(12,5))\n",
        "\n",
        "  #train data in blue\n",
        "  plt.scatter(train_data, train_labels, c='b', s=4, label='Training data')\n",
        "\n",
        "  #test data in red\n",
        "  plt.scatter(test_data, test_labels, c='r', s=4, label='Test data')\n",
        "\n",
        "  if preds is not None:\n",
        "    plt.scatter(test_data, preds, c='g', s=4, label='Predictions')\n",
        "\n",
        "  plt.legend()"
      ],
      "metadata": {
        "id": "nOLu2XDt5aEG"
      },
      "execution_count": null,
      "outputs": []
    },
    {
      "cell_type": "code",
      "source": [
        "plot_preds()"
      ],
      "metadata": {
        "colab": {
          "base_uri": "https://localhost:8080/",
          "height": 445
        },
        "id": "CvERs2O86mF-",
        "outputId": "6532f0b8-2b1c-48b6-91c1-c3d9bfc6ba4e"
      },
      "execution_count": null,
      "outputs": [
        {
          "output_type": "display_data",
          "data": {
            "text/plain": [
              "<Figure size 1200x500 with 1 Axes>"
            ],
            "image/png": "[encoded data removed]"
          },
          "metadata": {}
        }
      ]
    },
    {
      "cell_type": "markdown",
      "source": [
        "##3.2) build model"
      ],
      "metadata": {
        "id": "rXhj9A246pm3"
      }
    },
    {
      "cell_type": "markdown",
      "source": [
        "**Pytorch Model building essentials:**\n",
        "1. `torch.nn`\n",
        "  >building block of NNs\n",
        "\n",
        "2. `torch.nn.Parameter`\n",
        "  >to init params to be learnt by our model\n",
        "\n",
        "3. `torch.nn.Module`\n",
        "  >base class for all NN modules\n",
        "\n",
        "  >should override `forward()` in subclass\n",
        "\n",
        "4. `torch.optim`\n",
        "  >where optimizers in PyTorch live\n",
        "\n",
        "  >help optimize model params -> Gradient Descent"
      ],
      "metadata": {
        "id": "OdgMOOED6zR0"
      }
    },
    {
      "cell_type": "code",
      "source": [
        "#lr model\n",
        "class LinearRegressionModel(nn.Module):\n",
        "  #constructor\n",
        "  def __init__(self):\n",
        "    #super()\n",
        "      # - inherits properties and methods (param management,\n",
        "      #   forward method implementation, ...) from nn.Module class\n",
        "    super().__init__()\n",
        "\n",
        "    #init model params -> tensor\n",
        "    self.weights = nn.Parameter(torch.rand(1,\n",
        "                                           requires_grad=True,\n",
        "                                           dtype=torch.float))\n",
        "    self.bias = nn.Parameter(torch.randn(1,\n",
        "                                         requires_grad=True,\n",
        "                                         dtype=torch.float))\n",
        "  #forward pass\n",
        "  #any subclass of nn.Module needs to override forward()\n",
        "  def forward(self, x:torch.Tensor):\n",
        "    return self.weights * x + self.bias #lr formula"
      ],
      "metadata": {
        "id": "wXUFQrOg7ToI"
      },
      "execution_count": null,
      "outputs": []
    },
    {
      "cell_type": "markdown",
      "source": [
        "###***init model***"
      ],
      "metadata": {
        "id": "NOz9SDh8YNRk"
      }
    },
    {
      "cell_type": "code",
      "source": [
        "#random seed\n",
        "torch.manual_seed(42)\n",
        "\n",
        "#instance of the model\n",
        "model_0 = LinearRegressionModel()"
      ],
      "metadata": {
        "id": "Y0K4vcJg6mWf"
      },
      "execution_count": null,
      "outputs": []
    },
    {
      "cell_type": "markdown",
      "source": [
        "###learnable params"
      ],
      "metadata": {
        "id": "9kTwDP8FNpH9"
      }
    },
    {
      "cell_type": "code",
      "source": [
        "list(model_0.parameters())"
      ],
      "metadata": {
        "colab": {
          "base_uri": "https://localhost:8080/"
        },
        "id": "Mc1k9WAWNqGm",
        "outputId": "14fb1853-f2d8-4e90-93a7-0d39e28f14f5"
      },
      "execution_count": null,
      "outputs": [
        {
          "output_type": "execute_result",
          "data": {
            "text/plain": [
              "[Parameter containing:\n",
              " tensor([0.8823], requires_grad=True),\n",
              " Parameter containing:\n",
              " tensor([-0.6382], requires_grad=True)]"
            ]
          },
          "metadata": {},
          "execution_count": 79
        }
      ]
    },
    {
      "cell_type": "markdown",
      "source": [
        "###`state_dict()`\n",
        "* a dict that maps each layer to its param tensor\n",
        "* only shows layers with learnable params"
      ],
      "metadata": {
        "id": "slPyh9IDNRRn"
      }
    },
    {
      "cell_type": "code",
      "source": [
        "model_0.state_dict()"
      ],
      "metadata": {
        "colab": {
          "base_uri": "https://localhost:8080/"
        },
        "id": "oR5Y5xRgJtxX",
        "outputId": "074baaca-aae6-4a89-be18-098d0919fc76"
      },
      "execution_count": null,
      "outputs": [
        {
          "output_type": "execute_result",
          "data": {
            "text/plain": [
              "OrderedDict([('weights', tensor([0.8823])), ('bias', tensor([-0.6382]))])"
            ]
          },
          "metadata": {},
          "execution_count": 80
        }
      ]
    },
    {
      "cell_type": "markdown",
      "source": [
        "###prediction using `torch.inference_mode()`"
      ],
      "metadata": {
        "id": "_HpVyPAzMnCY"
      }
    },
    {
      "cell_type": "markdown",
      "source": [
        "* disables gradient tracking\n",
        "* keeps track of less info -> faster pred\n",
        "* can also use `torch.no_grad()`"
      ],
      "metadata": {
        "id": "rMvQdNUGN04C"
      }
    },
    {
      "cell_type": "code",
      "source": [
        "with torch.inference_mode():\n",
        "  y_pred = model_0(X_test)\n",
        "\n",
        "y_pred"
      ],
      "metadata": {
        "colab": {
          "base_uri": "https://localhost:8080/"
        },
        "id": "6wukAmvuLY-9",
        "outputId": "4f92b47c-b3cd-411c-fc8f-9716335838ec"
      },
      "execution_count": null,
      "outputs": [
        {
          "output_type": "execute_result",
          "data": {
            "text/plain": [
              "tensor([[ 0.1559],\n",
              "        [ 0.2265],\n",
              "        [ 0.2088],\n",
              "        [ 0.0147],\n",
              "        [ 0.1206],\n",
              "        [-0.4264],\n",
              "        [ 0.0324],\n",
              "        [-0.1088],\n",
              "        [-0.4441],\n",
              "        [-0.3382]])"
            ]
          },
          "metadata": {},
          "execution_count": 81
        }
      ]
    },
    {
      "cell_type": "code",
      "source": [
        "plot_preds(preds=y_pred)"
      ],
      "metadata": {
        "colab": {
          "base_uri": "https://localhost:8080/",
          "height": 445
        },
        "id": "Auf32LWIMxoS",
        "outputId": "7f959860-313f-432e-f7a5-2986622d7dbf"
      },
      "execution_count": null,
      "outputs": [
        {
          "output_type": "display_data",
          "data": {
            "text/plain": [
              "<Figure size 1200x500 with 1 Axes>"
            ],
            "image/png": "[encoded data removed]"
          },
          "metadata": {}
        }
      ]
    },
    {
      "cell_type": "markdown",
      "source": [
        "##3.3) Train model"
      ],
      "metadata": {
        "id": "m4AUoFzOk72J"
      }
    },
    {
      "cell_type": "markdown",
      "source": [
        "1. **Loss func:** measures how far preds are from targets\n",
        "2. **Optimizer:** adjusts the model's params s.t. it reduces the loss-> `torch.optim`"
      ],
      "metadata": {
        "id": "xtUg1mJXl2Eh"
      }
    },
    {
      "cell_type": "code",
      "source": [
        "#init loss func\n",
        "loss_fn = nn.L1Loss()\n",
        "\n",
        "#init optimizer\n",
        "optimizer = torch.optim.SGD(params=model_0.parameters(),\n",
        "                             lr=0.01) #lr(learning rate)\n"
      ],
      "metadata": {
        "id": "Dtj6KCZRNH-y"
      },
      "execution_count": null,
      "outputs": []
    },
    {
      "cell_type": "markdown",
      "source": [
        "##3.4) Training and Testing loop\n",
        "1. **forward pass**\n",
        "2. **loss calc**\n",
        "3. **optimizer zero grad** ⟶ prevents accumulation of gradients *(only train)*\n",
        "4. **backpropagation** ⟶ calc gradients of each of the params w.r.t loss *(only train)*\n",
        "5. **optimizer step** ⟶ use optimizer to reduce the loss by adjusting model params *(only train)*"
      ],
      "metadata": {
        "id": "t_XPzbVQlxwu"
      }
    },
    {
      "cell_type": "code",
      "source": [
        "epoch_count = []\n",
        "loss_log = []\n",
        "test_loss_log = []\n",
        "epochs=100\n",
        "for epoch in range(epochs):\n",
        "  ###Training loop\n",
        "\n",
        "  #set model to train mode\n",
        "    # - #sets all parameters that require gradients to accept gradients\n",
        "    # - layers like dropout and batch normalization are activated\n",
        "  model_0.train()\n",
        "\n",
        "  #1. forward pass\n",
        "  y_pred = model_0(X_train)\n",
        "\n",
        "  #2. loss calc\n",
        "  loss = loss_fn(y_pred, y_train)\n",
        "\n",
        "  #3. optimizer zero grad\n",
        "  optimizer.zero_grad()\n",
        "\n",
        "  #4. backpropagation\n",
        "  loss.backward()\n",
        "\n",
        "  #5. gradient descent\n",
        "  optimizer.step()\n",
        "  #--------------------------------------------------------------\n",
        "\n",
        "  ###Testing loop\n",
        "\n",
        "  #eval mode\n",
        "    # - layers like dropout and batch normalization are deactivated\n",
        "  model_0.eval()\n",
        "  # inference mode\n",
        "  with torch.inference_mode():\n",
        "    #1. forward pass\n",
        "    y_test_pred = model_0(X_test)\n",
        "\n",
        "    #2. loss calc\n",
        "    test_loss = loss_fn(y_test_pred, y_test)\n",
        "\n",
        "  if epoch%10==0:\n",
        "    #logging results\n",
        "    epoch_count.append(epoch)\n",
        "    loss_log.append(loss)\n",
        "    test_loss_log.append(test_loss)\n",
        "    print(f'epoch {epoch}: loss={loss:.2f} | test_loss={test_loss:.2f}')"
      ],
      "metadata": {
        "id": "KWI1jMVUry7u",
        "colab": {
          "base_uri": "https://localhost:8080/"
        },
        "outputId": "e2e6a861-95f2-4e5e-f2e7-4f0a6d0422f5"
      },
      "execution_count": null,
      "outputs": [
        {
          "output_type": "stream",
          "name": "stdout",
          "text": [
            "epoch 0: loss=0.86 | test_loss=0.80\n",
            "epoch 10: loss=0.74 | test_loss=0.68\n",
            "epoch 20: loss=0.62 | test_loss=0.55\n",
            "epoch 30: loss=0.50 | test_loss=0.42\n",
            "epoch 40: loss=0.38 | test_loss=0.29\n",
            "epoch 50: loss=0.26 | test_loss=0.16\n",
            "epoch 60: loss=0.16 | test_loss=0.10\n",
            "epoch 70: loss=0.13 | test_loss=0.11\n",
            "epoch 80: loss=0.11 | test_loss=0.12\n",
            "epoch 90: loss=0.11 | test_loss=0.13\n"
          ]
        }
      ]
    },
    {
      "cell_type": "code",
      "source": [
        "print(f'optimal params: weights:{weight:.2f}, bias:{bias:.2f}')\n",
        "print(f'adjusted params: {model_0.state_dict()}')"
      ],
      "metadata": {
        "colab": {
          "base_uri": "https://localhost:8080/"
        },
        "id": "f6eiI9u7fbGh",
        "outputId": "6ce1c6c4-8ec4-42a3-cf79-1b98dabf4656"
      },
      "execution_count": null,
      "outputs": [
        {
          "output_type": "stream",
          "name": "stdout",
          "text": [
            "optimal params: weights:0.70, bias:0.30\n",
            "adjusted params: OrderedDict([('weights', tensor([1.1208])), ('bias', tensor([0.0868]))])\n"
          ]
        }
      ]
    },
    {
      "cell_type": "code",
      "source": [
        "plt.plot(epoch_count, np.array(torch.tensor(loss_log).numpy()), label='Train loss')\n",
        "plt.plot(epoch_count, test_loss_log, label='Test loss')\n",
        "\n",
        "plt.title('Train and Test loss curves')\n",
        "plt.xlabel('epochs')\n",
        "plt.ylabel('loss')\n",
        "plt.legend()"
      ],
      "metadata": {
        "colab": {
          "base_uri": "https://localhost:8080/",
          "height": 489
        },
        "id": "LM6cHDxbhjxZ",
        "outputId": "85d2d0c6-8c04-4800-8d5b-aaca6b27fa58"
      },
      "execution_count": null,
      "outputs": [
        {
          "output_type": "execute_result",
          "data": {
            "text/plain": [
              "<matplotlib.legend.Legend at 0x7e78592e6110>"
            ]
          },
          "metadata": {},
          "execution_count": 86
        },
        {
          "output_type": "display_data",
          "data": {
            "text/plain": [
              "<Figure size 640x480 with 1 Axes>"
            ],
            "image/png": "[encoded data removed]"
          },
          "metadata": {}
        }
      ]
    },
    {
      "cell_type": "code",
      "source": [
        "plot_preds(preds=y_test_pred)"
      ],
      "metadata": {
        "colab": {
          "base_uri": "https://localhost:8080/",
          "height": 445
        },
        "id": "oCABCwtvX_WF",
        "outputId": "9b6a0994-2d84-4dd7-906d-dff91f887919"
      },
      "execution_count": null,
      "outputs": [
        {
          "output_type": "display_data",
          "data": {
            "text/plain": [
              "<Figure size 1200x500 with 1 Axes>"
            ],
            "image/png": "[encoded data removed]"
          },
          "metadata": {}
        }
      ]
    },
    {
      "cell_type": "markdown",
      "source": [
        "##3.5) Saving and Loading model\n",
        "* `torch.save()` ⟶ to save a PyTorch obj in pickle format\n",
        "* `torch.save()` ⟶ to load a saved PyTorch obj\n",
        "* `torch.nn.Module.load_state_dict()` ⟶ to load a model's saved state dict"
      ],
      "metadata": {
        "id": "VPV6dl6aLWG_"
      }
    },
    {
      "cell_type": "markdown",
      "source": [
        "###Saving Model's `state_dict()`"
      ],
      "metadata": {
        "id": "OzO1KtuEWyaH"
      }
    },
    {
      "cell_type": "code",
      "source": [
        "from pathlib import Path\n",
        "\n",
        "#1. setup models dir\n",
        "MODEL_PATH = Path('models')\n",
        "MODEL_PATH.mkdir(parents=True, exist_ok=True)\n",
        "\n",
        "#2. create model save path\n",
        "MODEL_NAME = '02_PyTorch_workflow_model_0.pth'\n",
        "MODEL_SAVE_PATH = MODEL_PATH/MODEL_NAME\n",
        "\n",
        "#3. save model state_dict\n",
        "torch.save(obj=model_0.state_dict(),\n",
        "           f=MODEL_SAVE_PATH)\n",
        "print('model saved successfully')"
      ],
      "metadata": {
        "id": "chER4eSse0Ik",
        "colab": {
          "base_uri": "https://localhost:8080/"
        },
        "outputId": "ce4db693-6abe-47ff-e8a9-62af1d12cf28"
      },
      "execution_count": null,
      "outputs": [
        {
          "output_type": "stream",
          "name": "stdout",
          "text": [
            "model saved successfully\n"
          ]
        }
      ]
    },
    {
      "cell_type": "code",
      "source": [
        "!ls -l models"
      ],
      "metadata": {
        "colab": {
          "base_uri": "https://localhost:8080/"
        },
        "id": "6-4wFWBxMMyb",
        "outputId": "230185da-2fd6-4a9c-b161-30c76841512d"
      },
      "execution_count": null,
      "outputs": [
        {
          "output_type": "stream",
          "name": "stdout",
          "text": [
            "total 8\n",
            "-rw-r--r-- 1 root root 1744 Mar  4 04:49 01_PyTorch_workflow_model_1.pth\n",
            "-rw-r--r-- 1 root root 1680 Mar  4 04:52 02_PyTorch_workflow_model_0.pth\n"
          ]
        }
      ]
    },
    {
      "cell_type": "markdown",
      "source": [
        "###Loading Model's `state_dict()`"
      ],
      "metadata": {
        "id": "Z_JvN45gW4xd"
      }
    },
    {
      "cell_type": "code",
      "source": [
        "#1. init a new instance of our model class before loading state_dict\n",
        "loaded_model_0 = LinearRegressionModel()\n",
        "\n",
        "print('before loading:')\n",
        "print(loaded_model_0.state_dict())\n",
        "print('\\n')\n",
        "\n",
        "#2. load the saved state_dict of model_0 to above instance\n",
        "loaded_model_0.load_state_dict(torch.load(f=MODEL_SAVE_PATH))\n",
        "\n",
        "print('after loading:')\n",
        "print(loaded_model_0.state_dict())"
      ],
      "metadata": {
        "colab": {
          "base_uri": "https://localhost:8080/"
        },
        "id": "KTMy5RngU4IT",
        "outputId": "a6525c13-25c1-4873-fb9a-dc11b2e9271b"
      },
      "execution_count": null,
      "outputs": [
        {
          "output_type": "stream",
          "name": "stdout",
          "text": [
            "before loading:\n",
            "OrderedDict([('weights', tensor([0.6009])), ('bias', tensor([1.3554]))])\n",
            "\n",
            "\n",
            "after loading:\n",
            "OrderedDict([('weights', tensor([1.1208])), ('bias', tensor([0.0868]))])\n"
          ]
        }
      ]
    },
    {
      "cell_type": "markdown",
      "source": [
        "\n",
        "\n",
        "---\n",
        "\n"
      ],
      "metadata": {
        "id": "9Z8c0DannYVh"
      }
    },
    {
      "cell_type": "markdown",
      "source": [
        "##3.6) Putting all together"
      ],
      "metadata": {
        "id": "QCyQfQGvnUpb"
      }
    },
    {
      "cell_type": "markdown",
      "source": [
        "###i) data"
      ],
      "metadata": {
        "id": "HtmOZog1noTN"
      }
    },
    {
      "cell_type": "code",
      "source": [
        "#known params\n",
        "weight = 0.7\n",
        "bias = 0.3\n",
        "\n",
        "#range of nos\n",
        "start=0\n",
        "end=2\n",
        "step = 0.02\n",
        "X = torch.arange(start, end, step).unsqueeze(dim=1)\n",
        "y = weight * X + bias\n"
      ],
      "metadata": {
        "id": "bhqNtw-KnUVS"
      },
      "execution_count": null,
      "outputs": []
    },
    {
      "cell_type": "code",
      "source": [
        "#train test split\n",
        "from sklearn.model_selection import train_test_split\n",
        "\n",
        "X_train, X_test, y_train, y_test = train_test_split(X, y, test_size=0.2)\n",
        "\n",
        "len(X_train), len(X_test), len(y_train), len(y_test)"
      ],
      "metadata": {
        "colab": {
          "base_uri": "https://localhost:8080/"
        },
        "id": "U4IvAT1knng5",
        "outputId": "518038e8-a5e2-47bf-cecc-061e80c248f1"
      },
      "execution_count": null,
      "outputs": [
        {
          "output_type": "execute_result",
          "data": {
            "text/plain": [
              "(80, 20, 80, 20)"
            ]
          },
          "metadata": {},
          "execution_count": 92
        }
      ]
    },
    {
      "cell_type": "code",
      "source": [
        "def plot_preds(train_data=X_train,\n",
        "               train_labels=y_train,\n",
        "               test_data=X_test,\n",
        "               test_labels=y_test,\n",
        "               preds=None):\n",
        "  plt.figure(figsize=(12,5))\n",
        "\n",
        "  #train data in blue\n",
        "  plt.scatter(train_data, train_labels, c='b', s=4, label='Training data')\n",
        "\n",
        "  #test data in red\n",
        "  plt.scatter(test_data, test_labels, c='r', s=4, label='Test data')\n",
        "\n",
        "  if preds is not None:\n",
        "    plt.scatter(test_data, preds, c='g', s=4, label='Predictions')\n",
        "\n",
        "  plt.legend()"
      ],
      "metadata": {
        "id": "mwZsJCJssX5R"
      },
      "execution_count": null,
      "outputs": []
    },
    {
      "cell_type": "markdown",
      "source": [
        "###ii) build model"
      ],
      "metadata": {
        "id": "lUFt2G9Gns_J"
      }
    },
    {
      "cell_type": "code",
      "source": [
        "class LinearRegressionModelV2(nn.Module):\n",
        "  def __init__(self):\n",
        "    super().__init__()\n",
        "\n",
        "    #init model params using linear_layer\n",
        "    self.linear_layer = nn.Linear(in_features=1,\n",
        "                                  out_features=1)\n",
        "\n",
        "  #let linear_layer do the forward computation -> linear regression\n",
        "  def forward(self, x: torch.Tensor) -> torch.Tensor:\n",
        "    return self.linear_layer(x)"
      ],
      "metadata": {
        "id": "75MtVAtbnu7T"
      },
      "execution_count": null,
      "outputs": []
    },
    {
      "cell_type": "markdown",
      "source": [
        "###iii) init model"
      ],
      "metadata": {
        "id": "rKSMl92An8ox"
      }
    },
    {
      "cell_type": "code",
      "source": [
        "model_1 = LinearRegressionModelV2()"
      ],
      "metadata": {
        "id": "6iwWgq6Cn9wC"
      },
      "execution_count": null,
      "outputs": []
    },
    {
      "cell_type": "code",
      "source": [
        "list(model_1.parameters())"
      ],
      "metadata": {
        "colab": {
          "base_uri": "https://localhost:8080/"
        },
        "id": "zrj2Zl9uoUMf",
        "outputId": "845bfaab-dae5-4902-d57e-119f5cf44f5c"
      },
      "execution_count": null,
      "outputs": [
        {
          "output_type": "execute_result",
          "data": {
            "text/plain": [
              "[Parameter containing:\n",
              " tensor([[-0.4869]], requires_grad=True),\n",
              " Parameter containing:\n",
              " tensor([0.5873], requires_grad=True)]"
            ]
          },
          "metadata": {},
          "execution_count": 96
        }
      ]
    },
    {
      "cell_type": "code",
      "source": [
        "model_1.state_dict()"
      ],
      "metadata": {
        "colab": {
          "base_uri": "https://localhost:8080/"
        },
        "id": "xoCUDlscoZdR",
        "outputId": "f9407363-1722-4379-9e30-95e3d6358706"
      },
      "execution_count": null,
      "outputs": [
        {
          "output_type": "execute_result",
          "data": {
            "text/plain": [
              "OrderedDict([('linear_layer.weight', tensor([[-0.4869]])),\n",
              "             ('linear_layer.bias', tensor([0.5873]))])"
            ]
          },
          "metadata": {},
          "execution_count": 97
        }
      ]
    },
    {
      "cell_type": "markdown",
      "source": [
        "###iv) GPU access"
      ],
      "metadata": {
        "id": "9ZH2_rTnqifw"
      }
    },
    {
      "cell_type": "code",
      "source": [
        "device = \"cuda\" if torch.cuda.is_available() else \"cpu\"\n",
        "device"
      ],
      "metadata": {
        "colab": {
          "base_uri": "https://localhost:8080/",
          "height": 35
        },
        "id": "RPCMf9iur31K",
        "outputId": "4332b41c-5bc0-4e8f-f05f-3ca472859b92"
      },
      "execution_count": null,
      "outputs": [
        {
          "output_type": "execute_result",
          "data": {
            "text/plain": [
              "'cuda'"
            ],
            "application/vnd.google.colaboratory.intrinsic+json": {
              "type": "string"
            }
          },
          "metadata": {},
          "execution_count": 98
        }
      ]
    },
    {
      "cell_type": "code",
      "source": [
        "next(model_1.parameters()).device"
      ],
      "metadata": {
        "colab": {
          "base_uri": "https://localhost:8080/"
        },
        "id": "0P6sVxplpZna",
        "outputId": "fb45a00e-217a-44ab-a941-b2e673359986"
      },
      "execution_count": null,
      "outputs": [
        {
          "output_type": "execute_result",
          "data": {
            "text/plain": [
              "device(type='cpu')"
            ]
          },
          "metadata": {},
          "execution_count": 99
        }
      ]
    },
    {
      "cell_type": "code",
      "source": [
        "model_1.to(device)\n",
        "next(model_1.parameters()).device"
      ],
      "metadata": {
        "colab": {
          "base_uri": "https://localhost:8080/"
        },
        "id": "1uK7Nrj6pkYD",
        "outputId": "93464d69-6b48-4660-9a90-a75c52dae292"
      },
      "execution_count": null,
      "outputs": [
        {
          "output_type": "execute_result",
          "data": {
            "text/plain": [
              "device(type='cuda', index=0)"
            ]
          },
          "metadata": {},
          "execution_count": 100
        }
      ]
    },
    {
      "cell_type": "markdown",
      "source": [
        "###v) train model"
      ],
      "metadata": {
        "id": "1HIMBc2aszIh"
      }
    },
    {
      "cell_type": "code",
      "source": [
        "loss_fn = nn.L1Loss()\n",
        "optimizer = torch.optim.SGD(params=model_1.parameters(), lr=0.01)"
      ],
      "metadata": {
        "id": "_LT1bNHVsEPh"
      },
      "execution_count": null,
      "outputs": []
    },
    {
      "cell_type": "code",
      "source": [
        "#training loop\n",
        "torch.manual_seed(42)\n",
        "\n",
        "epochs = 200\n",
        "\n",
        "#push data to GPU\n",
        "X_train = X_train.to(device)\n",
        "y_train = y_train.to(device)\n",
        "X_test = X_test.to(device)\n",
        "y_test = y_test.to(device)\n",
        "\n",
        "for epoch in range(epochs):\n",
        "  ###Training\n",
        "  model_1.train()\n",
        "\n",
        "  y_pred = model_1(X_train)\n",
        "\n",
        "  loss = loss_fn(y_pred, y_train)\n",
        "\n",
        "  optimizer.zero_grad()\n",
        "\n",
        "  loss.backward()\n",
        "\n",
        "  optimizer.step()\n",
        "\n",
        "  ###Testing\n",
        "  model_1.eval()\n",
        "  with torch.inference_mode():\n",
        "    y_test_pred = model_1(X_test)\n",
        "    test_loss = loss_fn(y_test_pred, y_test)\n",
        "\n",
        "\n",
        "  if epoch % 10 == 0:\n",
        "    print(f'epoch {epoch}: loss={loss:.3f} | test_loss={test_loss:.3f}')"
      ],
      "metadata": {
        "colab": {
          "base_uri": "https://localhost:8080/"
        },
        "id": "LhAfKfz-tO4n",
        "outputId": "db285fd9-5ab2-4d0a-e64f-b1996fa14c58"
      },
      "execution_count": null,
      "outputs": [
        {
          "output_type": "stream",
          "name": "stdout",
          "text": [
            "epoch 0: loss=0.901 | test_loss=1.009\n",
            "epoch 10: loss=0.768 | test_loss=0.858\n",
            "epoch 20: loss=0.647 | test_loss=0.732\n",
            "epoch 30: loss=0.544 | test_loss=0.624\n",
            "epoch 40: loss=0.463 | test_loss=0.528\n",
            "epoch 50: loss=0.401 | test_loss=0.447\n",
            "epoch 60: loss=0.352 | test_loss=0.385\n",
            "epoch 70: loss=0.316 | test_loss=0.339\n",
            "epoch 80: loss=0.286 | test_loss=0.309\n",
            "epoch 90: loss=0.267 | test_loss=0.287\n",
            "epoch 100: loss=0.251 | test_loss=0.270\n",
            "epoch 110: loss=0.239 | test_loss=0.255\n",
            "epoch 120: loss=0.227 | test_loss=0.242\n",
            "epoch 130: loss=0.216 | test_loss=0.230\n",
            "epoch 140: loss=0.205 | test_loss=0.218\n",
            "epoch 150: loss=0.194 | test_loss=0.206\n",
            "epoch 160: loss=0.183 | test_loss=0.194\n",
            "epoch 170: loss=0.172 | test_loss=0.183\n",
            "epoch 180: loss=0.162 | test_loss=0.171\n",
            "epoch 190: loss=0.151 | test_loss=0.160\n"
          ]
        }
      ]
    },
    {
      "cell_type": "code",
      "source": [
        "print(f'optimal params: weights:{weight:.2f}, bias:{bias:.2f}')\n",
        "print(f'adjusted params: {model_1.state_dict()}')"
      ],
      "metadata": {
        "colab": {
          "base_uri": "https://localhost:8080/"
        },
        "id": "qcr25hkuuy6S",
        "outputId": "f18a1498-4113-41a5-a30f-f9a46fc79ad7"
      },
      "execution_count": null,
      "outputs": [
        {
          "output_type": "stream",
          "name": "stdout",
          "text": [
            "optimal params: weights:0.70, bias:0.30\n",
            "adjusted params: OrderedDict([('linear_layer.weight', tensor([[0.4331]], device='cuda:0')), ('linear_layer.bias', tensor([0.6308], device='cuda:0'))])\n"
          ]
        }
      ]
    },
    {
      "cell_type": "markdown",
      "source": [
        "###vi) model evaluation"
      ],
      "metadata": {
        "id": "UP7hS_z8vvHC"
      }
    },
    {
      "cell_type": "code",
      "source": [
        "plot_preds(preds=y_test_pred.cpu())"
      ],
      "metadata": {
        "colab": {
          "base_uri": "https://localhost:8080/",
          "height": 445
        },
        "id": "LKh-F1Hpvofb",
        "outputId": "f0fdc344-d2c8-4108-ca01-57004412378d"
      },
      "execution_count": null,
      "outputs": [
        {
          "output_type": "display_data",
          "data": {
            "text/plain": [
              "<Figure size 1200x500 with 1 Axes>"
            ],
            "image/png": "[encoded data removed]"
          },
          "metadata": {}
        }
      ]
    },
    {
      "cell_type": "markdown",
      "source": [
        "###vii) save and load trained model"
      ],
      "metadata": {
        "id": "frCIpkNYxkpf"
      }
    },
    {
      "cell_type": "code",
      "source": [
        "#save\n",
        "from pathlib import Path\n",
        "\n",
        "MODEL_PATH = Path(\"models\")\n",
        "MODEL_PATH.mkdir(parents=True, exist_ok=True)\n",
        "\n",
        "MODEL_NAME = '01_PyTorch_workflow_model_1.pth'\n",
        "MODEL_SAVE_PATH = MODEL_PATH/MODEL_NAME\n",
        "\n",
        "torch.save(obj=model_1.state_dict(),\n",
        "           f=MODEL_SAVE_PATH)\n",
        "print('model saved successfully')"
      ],
      "metadata": {
        "colab": {
          "base_uri": "https://localhost:8080/"
        },
        "id": "fMc-wydiv3hE",
        "outputId": "5d1ddd4e-7c22-4267-967b-3ae30be0969a"
      },
      "execution_count": null,
      "outputs": [
        {
          "output_type": "stream",
          "name": "stdout",
          "text": [
            "model saved successfully\n"
          ]
        }
      ]
    },
    {
      "cell_type": "code",
      "source": [
        "#load\n",
        "loaded_model_1 = LinearRegressionModelV2()\n",
        "\n",
        "loaded_model_1.load_state_dict(torch.load(MODEL_SAVE_PATH))\n",
        "\n",
        "loaded_model_1.to(device)"
      ],
      "metadata": {
        "colab": {
          "base_uri": "https://localhost:8080/"
        },
        "id": "9GEWhR_wybMR",
        "outputId": "ce105978-3b7e-4750-b6fc-ddae93f906a6"
      },
      "execution_count": null,
      "outputs": [
        {
          "output_type": "execute_result",
          "data": {
            "text/plain": [
              "LinearRegressionModelV2(\n",
              "  (linear_layer): Linear(in_features=1, out_features=1, bias=True)\n",
              ")"
            ]
          },
          "metadata": {},
          "execution_count": 106
        }
      ]
    },
    {
      "cell_type": "code",
      "source": [
        "next(loaded_model_1.parameters()).device"
      ],
      "metadata": {
        "colab": {
          "base_uri": "https://localhost:8080/"
        },
        "id": "5hKNSe8ozPEB",
        "outputId": "29c305e7-c36c-4e93-83e1-af9d986efbc4"
      },
      "execution_count": null,
      "outputs": [
        {
          "output_type": "execute_result",
          "data": {
            "text/plain": [
              "device(type='cuda', index=0)"
            ]
          },
          "metadata": {},
          "execution_count": 107
        }
      ]
    },
    {
      "cell_type": "code",
      "source": [
        "loaded_model_1.state_dict()"
      ],
      "metadata": {
        "colab": {
          "base_uri": "https://localhost:8080/"
        },
        "id": "HbpfR8mNzS2o",
        "outputId": "cafe4356-2b22-407e-d3d1-1fda43d0cd51"
      },
      "execution_count": null,
      "outputs": [
        {
          "output_type": "execute_result",
          "data": {
            "text/plain": [
              "OrderedDict([('linear_layer.weight', tensor([[0.4331]], device='cuda:0')),\n",
              "             ('linear_layer.bias', tensor([0.6308], device='cuda:0'))])"
            ]
          },
          "metadata": {},
          "execution_count": 108
        }
      ]
    },
    {
      "cell_type": "markdown",
      "source": [
        "\n",
        "\n",
        "---\n",
        "\n"
      ],
      "metadata": {
        "id": "10NuLuzi4XbC"
      }
    }
  ]
}